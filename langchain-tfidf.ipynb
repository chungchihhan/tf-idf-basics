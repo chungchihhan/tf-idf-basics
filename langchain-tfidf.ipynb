{
 "cells": [
  {
   "cell_type": "code",
   "execution_count": 3,
   "metadata": {},
   "outputs": [],
   "source": [
    "from langchain_community.retrievers import TFIDFRetriever"
   ]
  },
  {
   "cell_type": "markdown",
   "metadata": {},
   "source": [
    "# Create New Retriever with Texts"
   ]
  },
  {
   "cell_type": "code",
   "execution_count": 4,
   "metadata": {},
   "outputs": [],
   "source": [
    "retriever = TFIDFRetriever.from_texts([\"foo\", \"bar\", \"world\", \"hello\", \"foo bar\"])"
   ]
  },
  {
   "cell_type": "markdown",
   "metadata": {},
   "source": [
    "# Create a New Retriever with Documents"
   ]
  },
  {
   "cell_type": "code",
   "execution_count": 26,
   "metadata": {},
   "outputs": [],
   "source": [
    "from langchain_community.document_loaders import PyPDFLoader\n",
    "from langchain_text_splitters import RecursiveCharacterTextSplitter\n",
    "\n",
    "loader = PyPDFLoader(\"files/2022_annual report_cn (1).pdf\")\n",
    "pages = loader.load_and_split()[:10]\n",
    "text_splitter = RecursiveCharacterTextSplitter(chunk_size=500, chunk_overlap=50)\n",
    "documents = text_splitter.split_documents(pages)"
   ]
  },
  {
   "cell_type": "code",
   "execution_count": 28,
   "metadata": {},
   "outputs": [
    {
     "data": {
      "text/plain": [
       "(1032, 284)"
      ]
     },
     "execution_count": 28,
     "metadata": {},
     "output_type": "execute_result"
    }
   ],
   "source": [
    "len(documents), len(pages)"
   ]
  },
  {
   "cell_type": "code",
   "execution_count": 29,
   "metadata": {},
   "outputs": [],
   "source": [
    "from langchain_core.documents import Document\n",
    "retriever = TFIDFRetriever.from_documents(documents)"
   ]
  },
  {
   "cell_type": "markdown",
   "metadata": {},
   "source": [
    "# Use Retriever"
   ]
  },
  {
   "cell_type": "code",
   "execution_count": 34,
   "metadata": {},
   "outputs": [],
   "source": [
    "result = retriever.invoke(\"合併總營收\")"
   ]
  },
  {
   "cell_type": "code",
   "execution_count": 35,
   "metadata": {},
   "outputs": [
    {
     "data": {
      "text/plain": [
       "[Document(page_content='̨ᝄ͑ᚃ\\nБϋజ\\nIUUQ\\x1b\\x10\\x10NPQT\\x0fUXTF\\x0fDPN\\x0fUXIUUQT\\x1b\\x10\\x10XXX\\x0fDIU\\x0fDPN\\x0fUX\\x10[I\\x0eUX\\x10IPNF\\x10DIU\\x10JOWFTUPST\\x10BOOVBM\\x0eSFQPSU\\n̊Ι˚ಂjʕശ͏\\u0a37ɓɓɚϋɚ˜ɚɤɞ˚', metadata={'source': 'files/2022_annual report_cn (1).pdf', 'page': 0}),\n",
       " Document(page_content='�址�100037 中�人民共和國北京市阜成門�大街 2�\\n6層640-26B 室\\n�絡人�滕健 代表\\n�話�+86-10-6801-8035\\n�子信��jianteng@cht.com.tw\\n中華電信仰光辦事處（緬甸）\\n�址�Suite 216, 50th building A, 50th Street lower block, \\nBotahtaung Township Yangon, Myanmar\\n�絡人�劉順德 代表\\n�子信��rogerliu@cht.sg', metadata={'source': 'files/2022_annual report_cn (1).pdf', 'page': 278}),\n",
       " Document(page_content='Vietnam 123000\\n�絡人�林益先 �經理\\n�話�+84-24-3795-1150~2\\n傳真�+84-24-3795-1149\\n�子信��daniellin@cht.com.twChunghwa Telecom Vietnam Co., Ltd.\\n（�志明辦公室）\\n�址�Room 1A, 4th Floor, Crescent Plaza, 105 Ton Dat \\nTien Street, Tan Phu Ward, Dist. 7, Ho Chi Minh City, \\nVietnam 756300\\n�絡人�林益先 �經理\\n�話�+84-28-5413-8251\\n�子信��daniellin@cht.com.tw\\nDonghwa Telecom Co., Ltd.\\n�址�⾹港九�九�灣宏光� 1�億京中心 A座7�A室\\n�絡人�劉�� �經理\\n�話�+852-3586-2600\\n傳真�+852-3586-3936\\n�子信��lsl008@cht.com.tw\\n \\n中華電信北京代表處\\n�址�100037 中�人民共和國北京市阜成門�大街 2�\\n6層640-26B 室', metadata={'source': 'files/2022_annual report_cn (1).pdf', 'page': 278}),\n",
       " Document(page_content='Johor, Malaysia\\n�絡人��子� 代表\\n�話�+60-17-809-7535\\n�子信��tclan@cht.sg\\nChunghwa Telecom (Thailand) Co., Ltd.\\n�址�33/4, The 9th Towers, Grand Rama 9, Tower B, 25th Fl., \\nUnit No. TNBO 2503 Rama 9 Road, Huaykwang District, \\nBangkok 10310, Thailand \\n�絡人�楊文彰 �經理\\n�話�+66-2-248-7101~2\\n傳真�+66-2-248-7100\\n�子信��arthur@cht.com.tw\\nChunghwa Telecom Vietnam Co., Ltd.\\n�址�Room 703, 7th Floor, 3D Viet Nam, Duy Tan\\nSt., Dich Vong Hau Ward, Cau Giay Dist., Ha Noi, \\nVietnam 123000\\n�絡人�林益先 �經理\\n�話�+84-24-3795-1150~2', metadata={'source': 'files/2022_annual report_cn (1).pdf', 'page': 278})]"
      ]
     },
     "execution_count": 35,
     "metadata": {},
     "output_type": "execute_result"
    }
   ],
   "source": [
    "result"
   ]
  },
  {
   "cell_type": "markdown",
   "metadata": {},
   "source": [
    "# Save and load"
   ]
  },
  {
   "cell_type": "code",
   "execution_count": 6,
   "metadata": {},
   "outputs": [],
   "source": [
    "retriever.save_local(\"testing.pkl\")"
   ]
  },
  {
   "cell_type": "code",
   "execution_count": 8,
   "metadata": {},
   "outputs": [],
   "source": [
    "retriever_copy = TFIDFRetriever.load_local(\"testing.pkl\",allow_dangerous_deserialization=True)"
   ]
  },
  {
   "cell_type": "code",
   "execution_count": 9,
   "metadata": {},
   "outputs": [
    {
     "data": {
      "text/plain": [
       "[Document(page_content='foo'),\n",
       " Document(page_content='foo bar'),\n",
       " Document(page_content='hello'),\n",
       " Document(page_content='world')]"
      ]
     },
     "execution_count": 9,
     "metadata": {},
     "output_type": "execute_result"
    }
   ],
   "source": [
    "retriever_copy.invoke(\"foo\")"
   ]
  },
  {
   "cell_type": "code",
   "execution_count": null,
   "metadata": {},
   "outputs": [],
   "source": []
  }
 ],
 "metadata": {
  "kernelspec": {
   "display_name": "venv",
   "language": "python",
   "name": "python3"
  },
  "language_info": {
   "codemirror_mode": {
    "name": "ipython",
    "version": 3
   },
   "file_extension": ".py",
   "mimetype": "text/x-python",
   "name": "python",
   "nbconvert_exporter": "python",
   "pygments_lexer": "ipython3",
   "version": "3.10.12"
  }
 },
 "nbformat": 4,
 "nbformat_minor": 2
}
